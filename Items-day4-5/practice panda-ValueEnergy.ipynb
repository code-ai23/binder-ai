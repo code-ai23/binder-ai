{
 "cells": [
  {
   "cell_type": "code",
   "execution_count": 1,
   "id": "493928c5",
   "metadata": {},
   "outputs": [],
   "source": [
    "import numpy as np\n",
    "import pandas as pd"
   ]
  },
  {
   "cell_type": "code",
   "execution_count": 200,
   "id": "5926e957",
   "metadata": {},
   "outputs": [],
   "source": [
    "df = pd.read_csv('Value_of_Energy_Cost_Savings_Program_Savings_for_Businesses.csv')"
   ]
  },
  {
   "cell_type": "code",
   "execution_count": 84,
   "id": "aa906122",
   "metadata": {},
   "outputs": [
    {
     "data": {
      "text/html": [
       "<div>\n",
       "<style scoped>\n",
       "    .dataframe tbody tr th:only-of-type {\n",
       "        vertical-align: middle;\n",
       "    }\n",
       "\n",
       "    .dataframe tbody tr th {\n",
       "        vertical-align: top;\n",
       "    }\n",
       "\n",
       "    .dataframe thead th {\n",
       "        text-align: right;\n",
       "    }\n",
       "</style>\n",
       "<table border=\"1\" class=\"dataframe\">\n",
       "  <thead>\n",
       "    <tr style=\"text-align: right;\">\n",
       "      <th></th>\n",
       "      <th>Period</th>\n",
       "      <th>Company Name</th>\n",
       "      <th>company contact</th>\n",
       "      <th>company email</th>\n",
       "      <th>company phone</th>\n",
       "      <th>Address</th>\n",
       "      <th>City</th>\n",
       "      <th>State</th>\n",
       "      <th>Postcode</th>\n",
       "      <th>Industry</th>\n",
       "      <th>...</th>\n",
       "      <th>Electric Savings</th>\n",
       "      <th>Borough</th>\n",
       "      <th>Latitude</th>\n",
       "      <th>Longitude</th>\n",
       "      <th>Community Board</th>\n",
       "      <th>Council District</th>\n",
       "      <th>BIN</th>\n",
       "      <th>BBL</th>\n",
       "      <th>Census Tract (2020)</th>\n",
       "      <th>Neighborhood Tabulation Area (NTA) (2020)</th>\n",
       "    </tr>\n",
       "  </thead>\n",
       "  <tbody>\n",
       "    <tr>\n",
       "      <th>0</th>\n",
       "      <td>FY2018</td>\n",
       "      <td>139 ACA Realty, Inc.</td>\n",
       "      <td>Eitan Chandally</td>\n",
       "      <td>barbara@dial7.com</td>\n",
       "      <td>7187076123</td>\n",
       "      <td>43-23 35th Street</td>\n",
       "      <td>Long Island City</td>\n",
       "      <td>NY</td>\n",
       "      <td>11101</td>\n",
       "      <td>Commercial</td>\n",
       "      <td>...</td>\n",
       "      <td>NaN</td>\n",
       "      <td>QUEENS</td>\n",
       "      <td>40.745706</td>\n",
       "      <td>-73.929565</td>\n",
       "      <td>402.0</td>\n",
       "      <td>26.0</td>\n",
       "      <td>4003160.0</td>\n",
       "      <td>4.002220e+09</td>\n",
       "      <td>17902.0</td>\n",
       "      <td>QN0202</td>\n",
       "    </tr>\n",
       "    <tr>\n",
       "      <th>1</th>\n",
       "      <td>FY2018</td>\n",
       "      <td>141 Lake Avenue Realty c/o JR Produce, Inc.</td>\n",
       "      <td>Josef Raz</td>\n",
       "      <td>jrproduce@gmail.com</td>\n",
       "      <td>7183708782</td>\n",
       "      <td>141 Lake Avenue</td>\n",
       "      <td>Staten Island</td>\n",
       "      <td>NY</td>\n",
       "      <td>10303</td>\n",
       "      <td>Wholesale/Warehouse/Distribution</td>\n",
       "      <td>...</td>\n",
       "      <td>NaN</td>\n",
       "      <td>STATEN IS</td>\n",
       "      <td>40.632845</td>\n",
       "      <td>-74.151048</td>\n",
       "      <td>501.0</td>\n",
       "      <td>49.0</td>\n",
       "      <td>5146740.0</td>\n",
       "      <td>5.011610e+09</td>\n",
       "      <td>239.0</td>\n",
       "      <td>SI0107</td>\n",
       "    </tr>\n",
       "    <tr>\n",
       "      <th>2</th>\n",
       "      <td>FY2018</td>\n",
       "      <td>14-10 123rd Street LLC</td>\n",
       "      <td>Danica/Ivan Drazic</td>\n",
       "      <td>ddrazic@atjelectrical.com</td>\n",
       "      <td>7183210117</td>\n",
       "      <td>14-10 123rd Street</td>\n",
       "      <td>College Point</td>\n",
       "      <td>NY</td>\n",
       "      <td>11356</td>\n",
       "      <td>Commercial</td>\n",
       "      <td>...</td>\n",
       "      <td>NaN</td>\n",
       "      <td>QUEENS</td>\n",
       "      <td>40.785144</td>\n",
       "      <td>-73.844833</td>\n",
       "      <td>407.0</td>\n",
       "      <td>19.0</td>\n",
       "      <td>4098344.0</td>\n",
       "      <td>4.040850e+09</td>\n",
       "      <td>929.0</td>\n",
       "      <td>QN0701</td>\n",
       "    </tr>\n",
       "    <tr>\n",
       "      <th>3</th>\n",
       "      <td>FY2018</td>\n",
       "      <td>183 Lorriane Street LLC</td>\n",
       "      <td>Tom Sapienza</td>\n",
       "      <td>tsapienza@KLCNY.com</td>\n",
       "      <td>2128405588</td>\n",
       "      <td>183 Lorraine Street</td>\n",
       "      <td>Brooklyn</td>\n",
       "      <td>NY</td>\n",
       "      <td>11231</td>\n",
       "      <td>Wholesale/Warehouse/Distribution</td>\n",
       "      <td>...</td>\n",
       "      <td>NaN</td>\n",
       "      <td>BROOKLYN</td>\n",
       "      <td>40.673106</td>\n",
       "      <td>-74.002300</td>\n",
       "      <td>306.0</td>\n",
       "      <td>38.0</td>\n",
       "      <td>3336622.0</td>\n",
       "      <td>3.005720e+09</td>\n",
       "      <td>5302.0</td>\n",
       "      <td>BK0601</td>\n",
       "    </tr>\n",
       "    <tr>\n",
       "      <th>4</th>\n",
       "      <td>FY2018</td>\n",
       "      <td>21st Century Optics, Inc.</td>\n",
       "      <td>Ralph Woythaler</td>\n",
       "      <td>rwoythaler@21st centuryoptics.com</td>\n",
       "      <td>7183922310</td>\n",
       "      <td>47-00 33rd Street</td>\n",
       "      <td>Lond Island City</td>\n",
       "      <td>NY</td>\n",
       "      <td>11101</td>\n",
       "      <td>Manufacturing</td>\n",
       "      <td>...</td>\n",
       "      <td>NaN</td>\n",
       "      <td>QUEENS</td>\n",
       "      <td>40.742386</td>\n",
       "      <td>-73.932148</td>\n",
       "      <td>402.0</td>\n",
       "      <td>26.0</td>\n",
       "      <td>4003447.0</td>\n",
       "      <td>4.002520e+09</td>\n",
       "      <td>19901.0</td>\n",
       "      <td>QN0202</td>\n",
       "    </tr>\n",
       "  </tbody>\n",
       "</table>\n",
       "<p>5 rows × 30 columns</p>\n",
       "</div>"
      ],
      "text/plain": [
       "   Period                                 Company Name     company contact  \\\n",
       "0  FY2018                         139 ACA Realty, Inc.     Eitan Chandally   \n",
       "1  FY2018  141 Lake Avenue Realty c/o JR Produce, Inc.           Josef Raz   \n",
       "2  FY2018                       14-10 123rd Street LLC  Danica/Ivan Drazic   \n",
       "3  FY2018                      183 Lorriane Street LLC        Tom Sapienza   \n",
       "4  FY2018                    21st Century Optics, Inc.     Ralph Woythaler   \n",
       "\n",
       "                       company email company phone              Address  \\\n",
       "0                  barbara@dial7.com    7187076123    43-23 35th Street   \n",
       "1                jrproduce@gmail.com    7183708782      141 Lake Avenue   \n",
       "2          ddrazic@atjelectrical.com    7183210117   14-10 123rd Street   \n",
       "3                tsapienza@KLCNY.com    2128405588  183 Lorraine Street   \n",
       "4  rwoythaler@21st centuryoptics.com    7183922310    47-00 33rd Street   \n",
       "\n",
       "               City State  Postcode                          Industry  ...  \\\n",
       "0  Long Island City    NY     11101                        Commercial  ...   \n",
       "1     Staten Island    NY     10303  Wholesale/Warehouse/Distribution  ...   \n",
       "2     College Point    NY     11356                        Commercial  ...   \n",
       "3          Brooklyn    NY     11231  Wholesale/Warehouse/Distribution  ...   \n",
       "4  Lond Island City    NY     11101                     Manufacturing  ...   \n",
       "\n",
       "  Electric Savings    Borough   Latitude  Longitude  Community Board  \\\n",
       "0              NaN     QUEENS  40.745706 -73.929565            402.0   \n",
       "1              NaN  STATEN IS  40.632845 -74.151048            501.0   \n",
       "2              NaN     QUEENS  40.785144 -73.844833            407.0   \n",
       "3              NaN   BROOKLYN  40.673106 -74.002300            306.0   \n",
       "4              NaN     QUEENS  40.742386 -73.932148            402.0   \n",
       "\n",
       "  Council District        BIN           BBL  Census Tract (2020)  \\\n",
       "0             26.0  4003160.0  4.002220e+09              17902.0   \n",
       "1             49.0  5146740.0  5.011610e+09                239.0   \n",
       "2             19.0  4098344.0  4.040850e+09                929.0   \n",
       "3             38.0  3336622.0  3.005720e+09               5302.0   \n",
       "4             26.0  4003447.0  4.002520e+09              19901.0   \n",
       "\n",
       "   Neighborhood Tabulation Area (NTA) (2020)  \n",
       "0                                     QN0202  \n",
       "1                                     SI0107  \n",
       "2                                     QN0701  \n",
       "3                                     BK0601  \n",
       "4                                     QN0202  \n",
       "\n",
       "[5 rows x 30 columns]"
      ]
     },
     "execution_count": 84,
     "metadata": {},
     "output_type": "execute_result"
    }
   ],
   "source": [
    "df.head()"
   ]
  },
  {
   "cell_type": "code",
   "execution_count": 4,
   "id": "29f13bb7",
   "metadata": {},
   "outputs": [
    {
     "name": "stdout",
     "output_type": "stream",
     "text": [
      "<class 'pandas.core.frame.DataFrame'>\n",
      "RangeIndex: 2363 entries, 0 to 2362\n",
      "Data columns (total 30 columns):\n",
      " #   Column                                     Non-Null Count  Dtype  \n",
      "---  ------                                     --------------  -----  \n",
      " 0   Period                                     2363 non-null   object \n",
      " 1   Company Name                               2363 non-null   object \n",
      " 2   company contact                            2363 non-null   object \n",
      " 3   company email                              2234 non-null   object \n",
      " 4   company phone                              2360 non-null   object \n",
      " 5   Address                                    2363 non-null   object \n",
      " 6   City                                       2357 non-null   object \n",
      " 7   State                                      2363 non-null   object \n",
      " 8   Postcode                                   2363 non-null   int64  \n",
      " 9   Industry                                   2363 non-null   object \n",
      " 10  Industry descr                             2164 non-null   object \n",
      " 11  Company Type                               2363 non-null   object \n",
      " 12  Current fulltime                           2350 non-null   float64\n",
      " 13  Job created                                229 non-null    float64\n",
      " 14  Job retain                                 339 non-null    float64\n",
      " 15  Effective Date                             2363 non-null   object \n",
      " 16  Total Savings                              2363 non-null   float64\n",
      " 17  Savings from beginning receiving benefits  2363 non-null   float64\n",
      " 18  Gas Savings                                801 non-null    float64\n",
      " 19  Cogen savings                              801 non-null    float64\n",
      " 20  Electric Savings                           801 non-null    float64\n",
      " 21  Borough                                    2149 non-null   object \n",
      " 22  Latitude                                   2144 non-null   float64\n",
      " 23  Longitude                                  2144 non-null   float64\n",
      " 24  Community Board                            2144 non-null   float64\n",
      " 25  Council District                           2144 non-null   float64\n",
      " 26  BIN                                        2111 non-null   float64\n",
      " 27  BBL                                        2111 non-null   float64\n",
      " 28  Census Tract (2020)                        2144 non-null   float64\n",
      " 29  Neighborhood Tabulation Area (NTA) (2020)  2144 non-null   object \n",
      "dtypes: float64(15), int64(1), object(14)\n",
      "memory usage: 554.0+ KB\n"
     ]
    }
   ],
   "source": [
    "df.info()"
   ]
  },
  {
   "cell_type": "markdown",
   "id": "40a7a7dc",
   "metadata": {},
   "source": [
    "**1. How many different companies are represented in the data set?**"
   ]
  },
  {
   "cell_type": "code",
   "execution_count": 85,
   "id": "35b4b68f",
   "metadata": {},
   "outputs": [
    {
     "data": {
      "text/plain": [
       "787"
      ]
     },
     "execution_count": 85,
     "metadata": {},
     "output_type": "execute_result"
    }
   ],
   "source": [
    "df['Company Name'].nunique()"
   ]
  },
  {
   "cell_type": "markdown",
   "id": "b7e9e6d0",
   "metadata": {},
   "source": [
    "**2. What is the total number of jobs created for businesses in Queens?**"
   ]
  },
  {
   "cell_type": "code",
   "execution_count": 86,
   "id": "607c5179",
   "metadata": {
    "scrolled": true
   },
   "outputs": [
    {
     "data": {
      "text/plain": [
       "City           QueensQueensQueensQueensQueensQueensQueensQuee...\n",
       "Job created                                              12257.0\n",
       "dtype: object"
      ]
     },
     "execution_count": 86,
     "metadata": {},
     "output_type": "execute_result"
    }
   ],
   "source": [
    "df.loc[df['City']=='Queens', ['City','Job created']].sum()"
   ]
  },
  {
   "cell_type": "markdown",
   "id": "20193321",
   "metadata": {},
   "source": [
    "**3. How many different unique email domains names are there in the data set?**"
   ]
  },
  {
   "cell_type": "code",
   "execution_count": 94,
   "id": "f5cad5f5",
   "metadata": {},
   "outputs": [],
   "source": [
    "df_email_cleaned = df.dropna(subset=['company email'])  # not sure why the answers differs so much with and without na values"
   ]
  },
  {
   "cell_type": "code",
   "execution_count": 95,
   "id": "232a1f00",
   "metadata": {},
   "outputs": [
    {
     "name": "stderr",
     "output_type": "stream",
     "text": [
      "/var/folders/5h/crgy0jxj1jg138mnbdwftm0h0000gp/T/ipykernel_73046/2290393746.py:1: SettingWithCopyWarning: \n",
      "A value is trying to be set on a copy of a slice from a DataFrame.\n",
      "Try using .loc[row_indexer,col_indexer] = value instead\n",
      "\n",
      "See the caveats in the documentation: https://pandas.pydata.org/pandas-docs/stable/user_guide/indexing.html#returning-a-view-versus-a-copy\n",
      "  df_email_cleaned['email_domian'] = df_email_cleaned['company email'].str.split('@').str[-1]\n"
     ]
    },
    {
     "data": {
      "text/plain": [
       "550"
      ]
     },
     "execution_count": 95,
     "metadata": {},
     "output_type": "execute_result"
    }
   ],
   "source": [
    "df_email_cleaned['email_domian'] = df_email_cleaned['company email'].str.split('@').str[-1]\n",
    "#df['email_domian'] = email_split[1]\n",
    "df_email_cleaned['email_domian'].nunique()"
   ]
  },
  {
   "cell_type": "code",
   "execution_count": 96,
   "id": "23ea2330",
   "metadata": {},
   "outputs": [
    {
     "data": {
      "text/plain": [
       "array(['dial7.com', 'gmail.com', 'atjelectrical.com', 'KLCNY.com',\n",
       "       '21st centuryoptics.com', 'amvchelsea.com', 'hotmail.com',\n",
       "       'pqus.com', '4c.com', '4over4.com', 'aol.com', 'alscientific.com',\n",
       "       'beadmasterusa.com', 'AOL.COM', 'aksinternational.com',\n",
       "       'abigal.com', 'arrowlinen.com', 'bilingualsino.com',\n",
       "       'acmepans.com', 'acmesmokedfish.com', 'actioncarting.com',\n",
       "       'remains.com', 'afcindustries.com', 'africanservices.com',\n",
       "       'ahalife.com', 'avac.com', 'aladdinbakery.com', 'yu.edu',\n",
       "       'alchemypaintworks.com', 'allaireconditioning.com',\n",
       "       'Johnmdallcitymetal.com', 'allcityswbd.com',\n",
       "       'officegreenfelds.com', 'netzero.net', 'alrue.com', 'amazon.com',\n",
       "       'folkartmuseum.org', 'turnstall.com', 'amysbread.com',\n",
       "       'anhuser-busch.com', 'adalowood.com', 'apexglobe.com',\n",
       "       'arcllc.com', 'approvedoil.com', 'expresito.com',\n",
       "       'aristacoffee.com', 'ArtexFAS.com', 'aspromechanical.com',\n",
       "       'avispl.com', 'bthayerassociates.com', 'bcsroyal.com',\n",
       "       'experiencebell.org', 'baldorfood.com', 'barkframeworks.com',\n",
       "       'baronesteel.com', 'belomtmetals.com', 'bensonmills.com',\n",
       "       'bermudalimo.com', 'BESTCASECELLULAR.COM', 'yahoo.com',\n",
       "       'bestmounting.com', 'gamlaphoto.com', 'afish.com',\n",
       "       'bigcitygraphics.com', 'bigheavystudios.com', 'bimmys.com',\n",
       "       'earthlink.net', 'verizon.net', 'aim.com', 'blumb.com',\n",
       "       'kidscreative.com', 'boycetech.com', 'BRAGARDUSA.COM',\n",
       "       'brkdistilling.com', 'jgewitrtzbrooklynnets.com',\n",
       "       'brooklynphono.com', 'jonathanburden.com', 'ckennethimports.com',\n",
       "       'calypsostbarth.com', 'cameometal.com', 'candidlitho.com',\n",
       "       'capjeff.com', 'carnegielinen.com', 'casabldg.com',\n",
       "       'cavcoroofing.com', 'gnyada.com', 'att.net', 'graciestudio.com',\n",
       "       'chelseacraftbrewing.com', 'plexi-craft.com', 'childcenterny.com',\n",
       "       'christies.com', 'lumiiode.com', 'VERIZON.NET', 'citarella.com',\n",
       "       'cityaquarium.com', 'classic-cooking.com', 'cbs-collins.com',\n",
       "       'comfortbeddinginc.com', 'Computer Services Group, Inc.',\n",
       "       'controlelectropolishing.com', 'coolwind.biz', 'coronetparts.com',\n",
       "       'cosmoscommunications.com', 'cotronics.com', 'crepini.com',\n",
       "       'crystallaketrading.com', 'cyracom.com', 'uniquesettings.com',\n",
       "       'chefswarehouse.com', 'Danielscuderi.com', 'dartmedicallab.com',\n",
       "       'dasnymech.com', 'dcdad.com', 'habersilver.com', 'dellscherry.com',\n",
       "       'DTCC.com', 'ddp-ny.com', 'dinascorp.com', 'donnellymech.com',\n",
       "       'downrightltd.com', 'ducecc.com', 'dufourpastrykitchens.com',\n",
       "       'dundyglass.com', 'interstate-envelope.com', 'gm-graphics.com',\n",
       "       'easterntabletop.com', 'dishnetwork.com', 'eclecticprops.com',\n",
       "       'epl.com', 'electronicdiecorp.com', 'elenis.com',\n",
       "       'newfultonfishmarket.com', 'emgmediainc.com',\n",
       "       'empiremerchants.com', 'empressmedia.com', 'epic-pharma.com',\n",
       "       'steinerstudios.com', 'export-sales.com', 'fairwaymarket.com',\n",
       "       'fatwitch.com', 'faviana.com', 'fayda.com', 'fedex.com',\n",
       "       'alltek1.com', 'cvmventures.com', 'fcrc.com', 'fraplaster.com',\n",
       "       'fgca.com', 'freemanlewis.com', 'freshdirect.com',\n",
       "       'fultonferryliquidators.com', 'universal-seafood.com',\n",
       "       'pinagracesmarketplace.com', 'gailer.com', 'generaltools.com',\n",
       "       'globalterminals.com', 'gothamgreens.com', 'gourmetboutique.com',\n",
       "       'gourmetguru.com', 'graham-windham.org', 'grandstandsports.com',\n",
       "       'gustavrestoration.com', 'foxgrops.corp', 'mygoldgran.com',\n",
       "       'haleandhearty.com', 'vinegarhillhc.com',\n",
       "       'halmarkarchitectural.com', 'heinsenproducts.com',\n",
       "       'herculesht.com', 'hergo.com', 'highlinestages.com',\n",
       "       'hgstones.com', 'millerblaker.com', 'mrtcarting.com',\n",
       "       'hedhifi.com', 'hainyc.org', 'houseofspicesindia.com',\n",
       "       'moving-storage.com', 'intercaprealty.com', 'insekdesign.com',\n",
       "       'iptnamedesign.com', 'irxtherapeutics.com', 'galwein.com',\n",
       "       'jandjjohnson.com', 'optonline.net', 'jsussmaninc.com',\n",
       "       'mrchocolate.com', 'janusproperty.com', 'johnsnyc.com',\n",
       "       'Jetblue.com', 'jetrord.com', 'nyc.rr.com', 'justbagels.com',\n",
       "       'justsalad.com', 'us.klinelogistics.com', 'sureiron.com',\n",
       "       'usa.com', 'karrgraphics.com', 'kmf-inc.com',\n",
       "       'kewforestplumbing.com', 'am.kwe.com', 'Krinos.com',\n",
       "       'lafarge-na.com', 'lafgrind.com', 'leespring.com',\n",
       "       'sunshinelighting.com', 'lindatool.com', 'us-resources.com',\n",
       "       'horizonmills.net', 'lockwoodpublications.com',\n",
       "       'longislandconcrete.net', 'misssportswear.com',\n",
       "       'madamepaulette.com', 'madelainechocolate.com', 'magellan.aero',\n",
       "       'magicnovelty.com', 'mariebelle.com', 'maricmechanical.com',\n",
       "       'marjam.com', 'marleyspoon.com', 'matros.com', 'mcndesign.com',\n",
       "       'mechoshade.com', 'menucovers.biz', 'MESORAH.COM',\n",
       "       'METALWORKSINC.COM', 'garmentcare.com', 'mcfina.com',\n",
       "       'mldesignandprinting.com', 'gomondial.com', 'montebellofoods.com',\n",
       "       'morganstanley.com', 'promodev.com', 'nationalacoustics.com',\n",
       "       'nationaltextile.net', 'unionmachinery.com', 'natuzzibrosice.com',\n",
       "       'jansproperty.com', 'neumanskitch.com', 'newconceptsllc.com',\n",
       "       'nybc.org', 'nydigitalcolor.com', 'nyfusa.com',\n",
       "       'europanbakery.com', 'norampac.com', 'novaoffset.com',\n",
       "       'adenovarebiologistics.com', 'noveltycrystal.com', 'NovoArts.com',\n",
       "       'nulux.com', 'caliendocontracting.com', 'artimusnyc.com',\n",
       "       'ohnuts.com', 'okfoc.us', 'oldwilliamsburgh.com',\n",
       "       'onestopblueprinting .com', 'opinionaccess.com',\n",
       "       'ovenartisans.com', 'paperenterprises.com',\n",
       "       'paralleldevelopment.net', 'optimum.net', 'parsons-meares.com',\n",
       "       'financierpastries.com', 'raviolistore.com', 'pencom.com',\n",
       "       'pentagram.com', 'pepsi-ny.com', 'perrigo.com', 'petcarerx.com',\n",
       "       'cakedeco.com', 'forbee.com', 'pintoandtegerelectrica.com',\n",
       "       'pdoinc.com', 'premierpaintroller.com', 'p2print.com',\n",
       "       'promptapparel.com', 'qualitycasting.com', 'rcn.net', 'jetrod.com',\n",
       "       'KOSHERICECREAM.COM', 'myredrabbit.com', 'regalhome.net', '.net',\n",
       "       'rivaprecision.com', 'roanwellcorp.com', 'digitallaundry.net',\n",
       "       'rolexusa.com', 'roscomirrors.com', 'MADROSE.COM', 'mac.com',\n",
       "       'royalindustries.com', 'missgrimble.com', 'rwsandassociates.com',\n",
       "       'slaerospace.com', 'SBROOME.COM', 'sadowskyguitars.com',\n",
       "       'safeart.com', 'sahadifinefoods.com', 'feldmanlumber.com',\n",
       "       'sculpturehousecasting.com', 'sequins.com', 'sfainteriors.com',\n",
       "       'signsanddecal.com', 'sillyphillie.com', 'silverhillarts.com',\n",
       "       'silvercupstudios.com', 'attglobal.net', 'simonliuinc.com',\n",
       "       'simdev.com', 'influencegraphics.com', 'skylinewindows.com',\n",
       "       'solco.com', 'spaethdesign.com', 'standandbuild.com',\n",
       "       'jeshapiro.com', 'superflex.com', 'sweetsams.com',\n",
       "       'Takoselectric.com', 'talasonline.com', 'easternconnection.com',\n",
       "       'bnymellon.com', 'gluckpartners.com', 'handytool.com',\n",
       "       'igrace.com', 'lobsterplace.com', 'gtmachinetool.com',\n",
       "       'AMATOFURNITURE.COM', 'twcable.com', 'titone.com', 'tourneau.com',\n",
       "       'tracywatts.com', 'ultraflex.com', 'tristatecamera.com',\n",
       "       'triumphconstcorp.com', 'pepsico.com', 'tmitrading.com',\n",
       "       'Twoseven.net', 'silkstonenyc.com', 'usballoon.com', 'ulano.com',\n",
       "       'uncommongoods.com', 'unitedair.com', 'uft.org', 'unfcu.com',\n",
       "       'benjanusproperty.com', 'urbangreenfurniture.com',\n",
       "       'ARCHGRILLE.COM', 'petrossian.com', 'vnsny.org',\n",
       "       'prattindustries.com', 'vivatime.com', 'w-architecture.com',\n",
       "       'wallst.mail.com', 'Walshelectrical.com', 'waterliliesfood.com',\n",
       "       'watermark-designs.com', 'weaponspecialists.com',\n",
       "       'www.bme.coumbia.edu/-sia', 'whitecoffee.com', 'prodigy.net',\n",
       "       'hirdco.com', 'wolf-gordon.com', 'wontonfood.com', 'worksman.com',\n",
       "       'wudfurniture.com', 'juno.com', 'silvprop.com', 'energyspec.com',\n",
       "       'MEQS.com', 'mdc-partners.com', 'aduiepyle.com', 'avac.org',\n",
       "       'allisoneden.comP', 'american-transit.com', 'msn.com',\n",
       "       'b-reel.com', 'brooklynitx.com', 'brooklynbrands.com', 'chase.com',\n",
       "       'chromationspec.com', 'conceptfarm.com', 'db.com', 'drsmood.com',\n",
       "       'empressmam.com', 'unionstreetstudiollc.com', 'iptnamedesigns.com',\n",
       "       'jprmechanical.com', 'tectonicengineering.com', 'kickstarter.com',\n",
       "       'kleinbergelectric.net', 'mecny.com', 'mkjcomm.com',\n",
       "       'forthepeople.com', 'pilotworks.com', 'pintoandtegerelectric.com',\n",
       "       'rusa.com', 'sdcdesigns.com', 'colossalmediagroup.com',\n",
       "       'squarerootsgrow.com', 'thebronxbrewery.com', 'dime.com',\n",
       "       'treasureag.com', 'Nolva.com', 'vbcpkg.com', 'vaynermedia.com',\n",
       "       'walshec.com', 'harlembiospace.com', 'wildedibles.com',\n",
       "       'industrycity.com', 'am.jll.com', 'abelcine.com', 'accenture.com',\n",
       "       'consultant.aecom.com', 'allcitymetal.com', 'allstatemedical.com',\n",
       "       'americanbridge.net', 'apple-bank.com', 'armadany.com',\n",
       "       'blindbuildersusa.com', 'barryxball.com', 'bcga.com',\n",
       "       'yorkstudios.com', 'casualfilms.com', 'mtmsalescorp.com',\n",
       "       'csgny.com', 'dsanddurga.com', 'jibei.com', 'estee.com',\n",
       "       'storagedeluxe.com', 'fidelitypayment.com', 'necsenergy.com',\n",
       "       'gcreate.com', 'goldsteincapital.com', 'grimmales.com', 'halo.com',\n",
       "       'alo.com', 'icloud.com', 'heyhush.com', 'maliamills.com',\n",
       "       'idlelectric.com', 'ikea.com', 'innergaze.com',\n",
       "       'kaufmanastoria.com', 'kflawny.com', 'lafayette148.com',\n",
       "       'mandrcpas.com', 'marinaicecream.com', 'cmcinnis.com',\n",
       "       'montefiore.org', 'mytworks.com', 'heydenryk.com',\n",
       "       'palacepaints.com', 'takecareof.com', 'novaprinting.com',\n",
       "       'onegirlcookies.com', 'otherhalfbrewing.com', 'orwashers.com',\n",
       "       'picturefarmpro.com', 'truepill.com', 'lightsup.info',\n",
       "       'rdsdelivery.com', 'rph.nyc', 'rogerssurveying.com',\n",
       "       'catbirdnyc.com', 'russanddaughters.com', 'siminternational.com',\n",
       "       'skylinerestoration.com', 'soharlem.org', 'charter.com',\n",
       "       'spinmaster.com', 'foodtravelexperts.com', 'stinkstudio.com',\n",
       "       'brooklyngrangefarm.com', 'teigroup.com', 'gluckplus.com',\n",
       "       'tonerquest.com', 'transmitterbrewing.com', 'ceqy.com',\n",
       "       'triplumbing.com', 'vera.org', 'werwaissandco.com',\n",
       "       'acmesalesgroup.com', 'WSGC.com', 'wwps.com', 'wurtec.com',\n",
       "       'necsenergy.net', '21stcenturyoptics.com', 'einsteinmed.edu',\n",
       "       'allisoneden.com', 'forsivecoffee.com', 'belmontmetals.com',\n",
       "       'bigorangesheep.com', 'birns.net', 'jgeweirtzbseglobal.net',\n",
       "       'buck.co', 'jpmchase.com', 'christopherWebb.tv',\n",
       "       'li-lacchocolates.com', 'dnjmechanical.com', 'eggcollective.com',\n",
       "       'fineandraw.com', 'gsbdigital.com', 'greatperformances.com',\n",
       "       'hkorg.com', 'hospiceny.com', 'hydromx.us', 'IDKcoolingcorp.com',\n",
       "       'ironmountain.com', 'kamco.com', 'kroll.com', 'maquettefas.com',\n",
       "       'montfordworkshop.com', 'primerica.com', 'fast-ice.com',\n",
       "       'nyinsulates.com', 'northwell.edu', 'prosehair.com',\n",
       "       'rachelchoflowers.com', 'rogerssurveying.net',\n",
       "       'spatialrelations.com', 'standardspirit.com', 'taleabeer.com',\n",
       "       'ehandytool.com', 'cj.net', 'mjjbrillant.com', 'aplusir.com',\n",
       "       'eastriverstudios.com', 'edenworks.com', 'southsidebd.com',\n",
       "       'fundraiseup.com', 'hanamakgeolli.com', 'kingdomsupercultures.com',\n",
       "       'jennagang.com', 'Jouffre.com', 'eterrakitchen.com',\n",
       "       'kleinreid.com', 'matzu.net', 'montanadata.com', 'motherusa.com',\n",
       "       'opticology.com', 'thespecialistsltd.com', 'barrowsintense.com',\n",
       "       ' r-andcompany.com', 'ryan-sullivan.com', 'the-garage.tv',\n",
       "       'structure-nyc.com', 'sussmancorp.com', 'ubertoltd.com',\n",
       "       'worksmfg.com'], dtype=object)"
      ]
     },
     "execution_count": 96,
     "metadata": {},
     "output_type": "execute_result"
    }
   ],
   "source": [
    "df_email_cleaned['email_domian'].unique()"
   ]
  },
  {
   "cell_type": "code",
   "execution_count": 97,
   "id": "ace18f29",
   "metadata": {},
   "outputs": [
    {
     "name": "stderr",
     "output_type": "stream",
     "text": [
      "/var/folders/5h/crgy0jxj1jg138mnbdwftm0h0000gp/T/ipykernel_73046/478639263.py:8: SettingWithCopyWarning: \n",
      "A value is trying to be set on a copy of a slice from a DataFrame.\n",
      "Try using .loc[row_indexer,col_indexer] = value instead\n",
      "\n",
      "See the caveats in the documentation: https://pandas.pydata.org/pandas-docs/stable/user_guide/indexing.html#returning-a-view-versus-a-copy\n",
      "  df_email_cleaned['email_domian'] = df_email_cleaned['company email'].apply(unique)\n"
     ]
    },
    {
     "data": {
      "text/plain": [
       "550"
      ]
     },
     "execution_count": 97,
     "metadata": {},
     "output_type": "execute_result"
    }
   ],
   "source": [
    "def unique(x):\n",
    "    if pd.notnull(x):\n",
    "        return x.split('@')[-1]\n",
    "    else:\n",
    "        return None\n",
    "    \n",
    "\n",
    "df_email_cleaned['email_domian'] = df_email_cleaned['company email'].apply(unique)\n",
    "df_email_cleaned['email_domian'].nunique()\n",
    "\n"
   ]
  },
  {
   "cell_type": "markdown",
   "id": "7717cca0",
   "metadata": {},
   "source": [
    "**4. Considering only NTAs with at least 5 listed businesses, what is the average total savings and the total jobs created for each NTA?**"
   ]
  },
  {
   "cell_type": "code",
   "execution_count": 98,
   "id": "98756fb5",
   "metadata": {},
   "outputs": [],
   "source": [
    "df = df.dropna(subset=['Neighborhood Tabulation Area (NTA) (2020)'])"
   ]
  },
  {
   "cell_type": "code",
   "execution_count": 99,
   "id": "0a306466",
   "metadata": {},
   "outputs": [],
   "source": [
    "#df_cleaned = df.dropna(subset=['Total Savings', 'Job created'])"
   ]
  },
  {
   "cell_type": "code",
   "execution_count": 138,
   "id": "0e1dd287",
   "metadata": {
    "scrolled": true
   },
   "outputs": [
    {
     "data": {
      "text/plain": [
       "Index(['BK0702', 'QN0201', 'QN0202', 'BX0201', 'BK0104', 'QN0105', 'BK0601',\n",
       "       'BK0101', 'QN0501', 'BX0101', 'MN0902', 'QN0701', 'BK0802', 'BK0261',\n",
       "       'BK0202', 'QN0101', 'MN0101', 'BK0503', 'QN1306', 'QN0203', 'BK0502',\n",
       "       'QN0161', 'BK1602', 'QN0502', 'BX1001', 'QN0707', 'MN1102', 'QN0103',\n",
       "       'MN0401', 'SI0107', 'MN0102', 'SI0204', 'BK0301', 'QN0904', 'QN0104',\n",
       "       'BK0201', 'QN0902', 'QN0402', 'QN1201', 'MN0502', 'BX0703', 'BX0302',\n",
       "       'QN0503', 'QN1303', 'BX1161', 'QN1002', 'QN1205', 'BK1803', 'BK0102',\n",
       "       'BK1702', 'BK0203', 'BX1102', 'BK0401', 'BK0103', 'BK1202', 'QN0261',\n",
       "       'SI0106', 'BK1403', 'BX1202', 'MN0501', 'BK0504', 'BK1302', 'QN1305',\n",
       "       'QN0702', 'MN1201', 'MN1001', 'BK1801', 'BK1704', 'QN1203', 'BK0701',\n",
       "       'BK1701', 'QN0602'],\n",
       "      dtype='object')"
      ]
     },
     "execution_count": 138,
     "metadata": {},
     "output_type": "execute_result"
    }
   ],
   "source": [
    "NTA_counts = df['Neighborhood Tabulation Area (NTA) (2020)'].value_counts()\n",
    "NTA_valid = NTA_counts[NTA_counts>=5].index\n",
    "#[['Total Savings','Job created ']].mean()\n",
    "NTA_valid"
   ]
  },
  {
   "cell_type": "code",
   "execution_count": 139,
   "id": "392f15f5",
   "metadata": {
    "scrolled": true
   },
   "outputs": [],
   "source": [
    "filtered_df = df[df['Neighborhood Tabulation Area (NTA) (2020)'].isin(NTA_valid)]\n",
    "#filtered_df.loc[filtered_df['Neighborhood Tabulation Area (NTA) (2020)']=='BK0101', ['Total Savings', 'Job created']].dropna()"
   ]
  },
  {
   "cell_type": "code",
   "execution_count": 140,
   "id": "da1b94e7",
   "metadata": {
    "scrolled": true
   },
   "outputs": [
    {
     "data": {
      "text/html": [
       "<div>\n",
       "<style scoped>\n",
       "    .dataframe tbody tr th:only-of-type {\n",
       "        vertical-align: middle;\n",
       "    }\n",
       "\n",
       "    .dataframe tbody tr th {\n",
       "        vertical-align: top;\n",
       "    }\n",
       "\n",
       "    .dataframe thead th {\n",
       "        text-align: right;\n",
       "    }\n",
       "</style>\n",
       "<table border=\"1\" class=\"dataframe\">\n",
       "  <thead>\n",
       "    <tr style=\"text-align: right;\">\n",
       "      <th></th>\n",
       "      <th>Neighborhood Tabulation Area (NTA) (2020)</th>\n",
       "      <th>Total Savings</th>\n",
       "      <th>Job created</th>\n",
       "    </tr>\n",
       "  </thead>\n",
       "  <tbody>\n",
       "    <tr>\n",
       "      <th>0</th>\n",
       "      <td>BK0101</td>\n",
       "      <td>10367.961795</td>\n",
       "      <td>16.0</td>\n",
       "    </tr>\n",
       "    <tr>\n",
       "      <th>1</th>\n",
       "      <td>BK0102</td>\n",
       "      <td>12599.753333</td>\n",
       "      <td>15.0</td>\n",
       "    </tr>\n",
       "    <tr>\n",
       "      <th>2</th>\n",
       "      <td>BK0103</td>\n",
       "      <td>19150.922857</td>\n",
       "      <td>0.0</td>\n",
       "    </tr>\n",
       "    <tr>\n",
       "      <th>3</th>\n",
       "      <td>BK0104</td>\n",
       "      <td>21158.253077</td>\n",
       "      <td>187.0</td>\n",
       "    </tr>\n",
       "    <tr>\n",
       "      <th>4</th>\n",
       "      <td>BK0201</td>\n",
       "      <td>15102.036364</td>\n",
       "      <td>0.0</td>\n",
       "    </tr>\n",
       "    <tr>\n",
       "      <th>...</th>\n",
       "      <td>...</td>\n",
       "      <td>...</td>\n",
       "      <td>...</td>\n",
       "    </tr>\n",
       "    <tr>\n",
       "      <th>67</th>\n",
       "      <td>QN1305</td>\n",
       "      <td>166379.352000</td>\n",
       "      <td>0.0</td>\n",
       "    </tr>\n",
       "    <tr>\n",
       "      <th>68</th>\n",
       "      <td>QN1306</td>\n",
       "      <td>21160.505200</td>\n",
       "      <td>0.0</td>\n",
       "    </tr>\n",
       "    <tr>\n",
       "      <th>69</th>\n",
       "      <td>SI0106</td>\n",
       "      <td>6338.252857</td>\n",
       "      <td>10.0</td>\n",
       "    </tr>\n",
       "    <tr>\n",
       "      <th>70</th>\n",
       "      <td>SI0107</td>\n",
       "      <td>113610.160000</td>\n",
       "      <td>300.0</td>\n",
       "    </tr>\n",
       "    <tr>\n",
       "      <th>71</th>\n",
       "      <td>SI0204</td>\n",
       "      <td>605464.839167</td>\n",
       "      <td>0.0</td>\n",
       "    </tr>\n",
       "  </tbody>\n",
       "</table>\n",
       "<p>72 rows × 3 columns</p>\n",
       "</div>"
      ],
      "text/plain": [
       "   Neighborhood Tabulation Area (NTA) (2020)  Total Savings  Job created\n",
       "0                                     BK0101   10367.961795         16.0\n",
       "1                                     BK0102   12599.753333         15.0\n",
       "2                                     BK0103   19150.922857          0.0\n",
       "3                                     BK0104   21158.253077        187.0\n",
       "4                                     BK0201   15102.036364          0.0\n",
       "..                                       ...            ...          ...\n",
       "67                                    QN1305  166379.352000          0.0\n",
       "68                                    QN1306   21160.505200          0.0\n",
       "69                                    SI0106    6338.252857         10.0\n",
       "70                                    SI0107  113610.160000        300.0\n",
       "71                                    SI0204  605464.839167          0.0\n",
       "\n",
       "[72 rows x 3 columns]"
      ]
     },
     "execution_count": 140,
     "metadata": {},
     "output_type": "execute_result"
    }
   ],
   "source": [
    "result = filtered_df.groupby('Neighborhood Tabulation Area (NTA) (2020)').agg({\n",
    "    'Total Savings': np.mean,\n",
    "    'Job created': np.sum\n",
    "}).reset_index()\n",
    "\n",
    "result"
   ]
  },
  {
   "cell_type": "code",
   "execution_count": 145,
   "id": "b1012e36",
   "metadata": {},
   "outputs": [],
   "source": [
    "result.to_csv('NTAs.csv')"
   ]
  },
  {
   "cell_type": "markdown",
   "id": "93027728",
   "metadata": {},
   "source": [
    "**Create a\n",
    "scatter plot of jobs created versus average savings. Use both a standard and a logarithmic scale for the average savings.**"
   ]
  },
  {
   "cell_type": "code",
   "execution_count": 141,
   "id": "301b6e08",
   "metadata": {},
   "outputs": [],
   "source": [
    "import matplotlib.pyplot as plt"
   ]
  },
  {
   "cell_type": "code",
   "execution_count": 142,
   "id": "b687fa43",
   "metadata": {},
   "outputs": [
    {
     "data": {
      "image/png": "[encoded data removed]",
      "text/plain": [
       "<Figure size 648x432 with 1 Axes>"
      ]
     },
     "metadata": {
      "needs_background": "light"
     },
     "output_type": "display_data"
    }
   ],
   "source": [
    "plt.figure(figsize=(9, 6))\n",
    "plt.scatter(result['Job created'], result['Total Savings'], alpha=.8)\n",
    "plt.xlabel('Total Jobs Created')\n",
    "plt.ylabel('Average Total Savings')\n",
    "plt.title('Scatter Plot of Jobs Created vs Average Savings (Standard Scale)')\n",
    "plt.grid(True)\n",
    "plt.show()"
   ]
  },
  {
   "cell_type": "code",
   "execution_count": 233,
   "id": "cdb4dd44",
   "metadata": {},
   "outputs": [
    {
     "data": {
      "image/png": "[encoded data removed]",
      "text/plain": [
       "<Figure size 648x432 with 1 Axes>"
      ]
     },
     "metadata": {
      "needs_background": "light"
     },
     "output_type": "display_data"
    }
   ],
   "source": [
    "plt.figure(figsize=(9, 6))\n",
    "plt.scatter(result['Job created'], result['Total Savings'], alpha=.8, c ='red')\n",
    "plt.xlabel('Total Jobs Created')\n",
    "plt.ylabel('Average Total Savings (Log scale)')\n",
    "plt.title('Scatter Plot of Jobs Created vs Average Savings (Log Scale)')\n",
    "plt.xscale('log')\n",
    "plt.yscale('log')\n",
    "plt.grid(True)\n",
    "plt.show()"
   ]
  },
  {
   "cell_type": "markdown",
   "id": "50f2963c",
   "metadata": {},
   "source": [
    "**Histogram of the log of the average total savings.**"
   ]
  },
  {
   "cell_type": "code",
   "execution_count": 228,
   "id": "ad64d0cb",
   "metadata": {
    "scrolled": false
   },
   "outputs": [
    {
     "data": {
      "image/png": "[encoded data removed]",
      "text/plain": [
       "<Figure size 720x432 with 1 Axes>"
      ]
     },
     "metadata": {
      "needs_background": "light"
     },
     "output_type": "display_data"
    }
   ],
   "source": [
    "plt.figure(figsize=(10, 6))\n",
    "log_avg_savings = np.log1p(result['Total Savings'])\n",
    "plt.hist(log_avg_savings, bins=20, alpha=.8)\n",
    "plt.xlabel('Log of Average Total Savings')\n",
    "plt.ylabel('Frequency')\n",
    "plt.title('Histogram of Log of Average Total Savings')\n",
    "plt.grid(True)\n",
    "plt.show()"
   ]
  },
  {
   "cell_type": "code",
   "execution_count": 229,
   "id": "a8a2feec",
   "metadata": {},
   "outputs": [
    {
     "data": {
      "image/png": "[encoded data removed]",
      "text/plain": [
       "<Figure size 720x432 with 1 Axes>"
      ]
     },
     "metadata": {
      "needs_background": "light"
     },
     "output_type": "display_data"
    }
   ],
   "source": [
    "# plt.figure(figsize=(10, 6))\n",
    "# plt.hist(result['Total Savings'], bins=20, alpha=.8, log = True)\n",
    "# plt.xlabel('Log of Average Total Savings')\n",
    "# plt.ylabel('Frequency')\n",
    "# plt.title('Histogram of Log of Average Total Savings')\n",
    "# plt.grid(True)\n",
    "# plt.show()"
   ]
  },
  {
   "cell_type": "markdown",
   "id": "1d05967b",
   "metadata": {},
   "source": [
    "**Line plot of the total jobs created for each month.**"
   ]
  },
  {
   "cell_type": "code",
   "execution_count": 201,
   "id": "4fd0a781",
   "metadata": {},
   "outputs": [
    {
     "data": {
      "text/plain": [
       "Period                                               object\n",
       "Company Name                                         object\n",
       "company contact                                      object\n",
       "company email                                        object\n",
       "company phone                                        object\n",
       "Address                                              object\n",
       "City                                                 object\n",
       "State                                                object\n",
       "Postcode                                              int64\n",
       "Industry                                             object\n",
       "Industry descr                                       object\n",
       "Company Type                                         object\n",
       "Current fulltime                                    float64\n",
       "Job created                                         float64\n",
       "Job retain                                          float64\n",
       "Effective Date                               datetime64[ns]\n",
       "Total Savings                                       float64\n",
       "Savings from beginning receiving benefits           float64\n",
       "Gas Savings                                         float64\n",
       "Cogen savings                                       float64\n",
       "Electric Savings                                    float64\n",
       "Borough                                              object\n",
       "Latitude                                            float64\n",
       "Longitude                                           float64\n",
       "Community Board                                     float64\n",
       "Council District                                    float64\n",
       "BIN                                                 float64\n",
       "BBL                                                 float64\n",
       "Census Tract (2020)                                 float64\n",
       "Neighborhood Tabulation Area (NTA) (2020)            object\n",
       "dtype: object"
      ]
     },
     "execution_count": 201,
     "metadata": {},
     "output_type": "execute_result"
    }
   ],
   "source": [
    "df['Effective Date'] = pd.to_datetime(df['Effective Date'])\n",
    "df.dtypes"
   ]
  },
  {
   "cell_type": "code",
   "execution_count": 202,
   "id": "fe68054f",
   "metadata": {},
   "outputs": [],
   "source": [
    "df['Month'] = df['Effective Date'].dt.month"
   ]
  },
  {
   "cell_type": "code",
   "execution_count": 203,
   "id": "9155caf2",
   "metadata": {},
   "outputs": [
    {
     "data": {
      "text/plain": [
       "Month\n",
       "1       235.0\n",
       "2       695.0\n",
       "3       311.0\n",
       "4       171.0\n",
       "5     11470.0\n",
       "6       626.0\n",
       "7       199.0\n",
       "8       127.0\n",
       "9       440.0\n",
       "10      583.0\n",
       "11      257.0\n",
       "12      168.0\n",
       "Name: Job created, dtype: float64"
      ]
     },
     "execution_count": 203,
     "metadata": {},
     "output_type": "execute_result"
    }
   ],
   "source": [
    "monthly_jobs = df.groupby('Month')['Job created'].sum()\n",
    "monthly_jobs"
   ]
  },
  {
   "cell_type": "code",
   "execution_count": 193,
   "id": "f6636783",
   "metadata": {},
   "outputs": [],
   "source": [
    "#df.set_index('Effective Date', inplace= True)\n",
    "#df['Job created'].resample('M').sum()"
   ]
  },
  {
   "cell_type": "code",
   "execution_count": 210,
   "id": "9506e2ad",
   "metadata": {},
   "outputs": [
    {
     "data": {
      "image/png": "[encoded data removed]",
      "text/plain": [
       "<Figure size 720x432 with 1 Axes>"
      ]
     },
     "metadata": {
      "needs_background": "light"
     },
     "output_type": "display_data"
    }
   ],
   "source": [
    "plt.figure(figsize=(10, 6))\n",
    "plt.plot(monthly_jobs.index, monthly_jobs.values, marker='o')\n",
    "plt.xlabel('Month')\n",
    "plt.ylabel('Total jobs created')\n",
    "plt.title('Total jobs created for each month')\n",
    "plt.xticks(monthly_jobs.index, ['Jan', 'Feb', 'Mar', 'Apr', 'May', 'Jun', 'Jul', 'Aug', 'Sep', 'Oct', 'Nov', 'Dec'])\n",
    "plt.grid(True)\n",
    "plt.show()"
   ]
  },
  {
   "cell_type": "code",
   "execution_count": 1,
   "id": "40a05e9f",
   "metadata": {},
   "outputs": [],
   "source": [
    "#plt.style.available\n",
    "# plt.style.use('')\n",
    "\n",
    "# color = '', marker= '' , linestyle= '', label = '', linewidth= ''\n",
    "#plt.savefig()"
   ]
  },
  {
   "cell_type": "code",
   "execution_count": null,
   "id": "f7f4f817",
   "metadata": {},
   "outputs": [],
   "source": []
  }
 ],
 "metadata": {
  "kernelspec": {
   "display_name": "Python 3 (ipykernel)",
   "language": "python",
   "name": "python3"
  },
  "language_info": {
   "codemirror_mode": {
    "name": "ipython",
    "version": 3
   },
   "file_extension": ".py",
   "mimetype": "text/x-python",
   "name": "python",
   "nbconvert_exporter": "python",
   "pygments_lexer": "ipython3",
   "version": "3.9.12"
  }
 },
 "nbformat": 4,
 "nbformat_minor": 5
}
